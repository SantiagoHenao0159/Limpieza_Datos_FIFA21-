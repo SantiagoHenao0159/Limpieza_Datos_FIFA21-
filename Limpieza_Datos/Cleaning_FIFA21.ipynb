{
 "cells": [
  {
   "cell_type": "markdown",
   "metadata": {},
   "source": [
    "## Limpieza de Datos Dataset FIFA21\n",
    "\n",
    "- Analisis Básico del Dataset \n",
    "- Limpieza y Transformacion\n"
   ]
  },
  {
   "cell_type": "code",
   "execution_count": null,
   "metadata": {},
   "outputs": [],
   "source": [
    "import pandas as pd\n",
    "import numpy as np"
   ]
  },
  {
   "cell_type": "code",
   "execution_count": null,
   "metadata": {},
   "outputs": [],
   "source": [
    "df = pd.read_csv('fifa21_raw_data.csv')"
   ]
  },
  {
   "cell_type": "code",
   "execution_count": null,
   "metadata": {},
   "outputs": [],
   "source": [
    "df.head()\n",
    "## Muestra las primeras 5 filas del dataset \n",
    "## La columna 'photoUrl' muestra el link a una url que muestra las fotos\n",
    "## de cada jugador "
   ]
  },
  {
   "cell_type": "code",
   "execution_count": null,
   "metadata": {},
   "outputs": [],
   "source": [
    "df.info()\n",
    "## este comando muestra un pequeño vistazo acerca del numero de variables\n",
    "## su tipo y el conteo de datos que son NO nulos \n",
    "\n",
    "## Esta informacion nos puede ayudar a visualizar posibles inconsistencias en\n",
    "## los datos "
   ]
  },
  {
   "cell_type": "markdown",
   "metadata": {},
   "source": [
    "## Limpieza y Transformacion "
   ]
  },
  {
   "cell_type": "markdown",
   "metadata": {},
   "source": [
    "### Datos Duplicados \n"
   ]
  },
  {
   "cell_type": "code",
   "execution_count": null,
   "metadata": {},
   "outputs": [],
   "source": [
    "df.duplicated().sum()\n",
    "\n",
    "## Muestra el numero de filas repetidas en el dataset, para posteriormente\n",
    "## decidir si eliminarlas "
   ]
  },
  {
   "cell_type": "code",
   "execution_count": null,
   "metadata": {},
   "outputs": [],
   "source": [
    "df.drop_duplicates(inplace= True)\n",
    "\n",
    "## Se decide eliminar aquellas filas repetidas"
   ]
  },
  {
   "cell_type": "code",
   "execution_count": null,
   "metadata": {},
   "outputs": [],
   "source": [
    "df.duplicated().sum()\n",
    "\n",
    "## Se muestra como ahora no hay filas repetidas "
   ]
  },
  {
   "cell_type": "markdown",
   "metadata": {},
   "source": [
    "### Datos Faltantes"
   ]
  },
  {
   "cell_type": "code",
   "execution_count": null,
   "metadata": {},
   "outputs": [],
   "source": [
    "df.isna().sum().sort_values(ascending=False)\n",
    "\n",
    "## Se buscan las columnas que cuentan con datos faltantes o nulos y se\n",
    "## hace el conteo de los mismos \n",
    "\n",
    "## En la columna 'Loan Date End' se muestra la fecha en la que expiran los \n",
    "## prestamos de jugadores cedidos. Aquellos jugadores que no estan a prestamo \n",
    "## al no tener fecha de expiracion dejan un dato nulo. Ahora se busca transformarlos"
   ]
  },
  {
   "cell_type": "code",
   "execution_count": null,
   "metadata": {},
   "outputs": [],
   "source": [
    "df[\"Loan Date End\"].fillna(\"Sin prestamo\", inplace=True)\n",
    "## Se cambia la informacion para aquellos jugadores que no estan a prestamo\n",
    "## y se verifica el cambio \n",
    "\n",
    "df[\"Loan Date End\"]"
   ]
  },
  {
   "cell_type": "markdown",
   "metadata": {},
   "source": [
    "### Conversion de Columnas"
   ]
  },
  {
   "cell_type": "code",
   "execution_count": 36,
   "metadata": {},
   "outputs": [
    {
     "name": "stdout",
     "output_type": "stream",
     "text": [
      "<class 'pandas.core.frame.DataFrame'>\n",
      "Index: 18978 entries, 0 to 18978\n",
      "Data columns (total 77 columns):\n",
      " #   Column              Non-Null Count  Dtype \n",
      "---  ------              --------------  ----- \n",
      " 0   id                  18978 non-null  int64 \n",
      " 1   name                18978 non-null  object\n",
      " 2   long_name           18978 non-null  object\n",
      " 3   age                 18978 non-null  int64 \n",
      " 4   nationality         18978 non-null  object\n",
      " 5   team & contract     18978 non-null  object\n",
      " 6   positions           18978 non-null  object\n",
      " 7   height              18978 non-null  object\n",
      " 8   weight              18978 non-null  object\n",
      " 9   foot                18978 non-null  object\n",
      " 10  joined              18978 non-null  object\n",
      " 11  value               18978 non-null  object\n",
      " 12  wage                18978 non-null  object\n",
      " 13  release_clause      18978 non-null  object\n",
      " 14  ova                 18978 non-null  int64 \n",
      " 15  photo_url           18978 non-null  object\n",
      " 16  player_url          18978 non-null  object\n",
      " 17  pot                 18978 non-null  int64 \n",
      " 18  bov                 18978 non-null  int64 \n",
      " 19  bp                  18978 non-null  object\n",
      " 20  growth              18978 non-null  int64 \n",
      " 21  loan_date_end       18978 non-null  object\n",
      " 22  attacking           18978 non-null  int64 \n",
      " 23  crossing            18978 non-null  int64 \n",
      " 24  finishing           18978 non-null  int64 \n",
      " 25  heading_accuracy    18978 non-null  int64 \n",
      " 26  short_passing       18978 non-null  int64 \n",
      " 27  volleys             18978 non-null  int64 \n",
      " 28  skill               18978 non-null  int64 \n",
      " 29  dribbling           18978 non-null  int64 \n",
      " 30  curve               18978 non-null  int64 \n",
      " 31  fk_accuracy         18978 non-null  int64 \n",
      " 32  long_passing        18978 non-null  int64 \n",
      " 33  ball_control        18978 non-null  int64 \n",
      " 34  movement            18978 non-null  int64 \n",
      " 35  acceleration        18978 non-null  int64 \n",
      " 36  sprint_speed        18978 non-null  int64 \n",
      " 37  agility             18978 non-null  int64 \n",
      " 38  reactions           18978 non-null  int64 \n",
      " 39  balance             18978 non-null  int64 \n",
      " 40  power               18978 non-null  int64 \n",
      " 41  shot_power          18978 non-null  int64 \n",
      " 42  jumping             18978 non-null  int64 \n",
      " 43  stamina             18978 non-null  int64 \n",
      " 44  strength            18978 non-null  int64 \n",
      " 45  long_shots          18978 non-null  int64 \n",
      " 46  mentality           18978 non-null  int64 \n",
      " 47  aggression          18978 non-null  int64 \n",
      " 48  interceptions       18978 non-null  int64 \n",
      " 49  positioning         18978 non-null  int64 \n",
      " 50  vision              18978 non-null  int64 \n",
      " 51  penalties           18978 non-null  int64 \n",
      " 52  composure           18978 non-null  int64 \n",
      " 53  defending           18978 non-null  int64 \n",
      " 54  marking             18978 non-null  int64 \n",
      " 55  standing_tackle     18978 non-null  int64 \n",
      " 56  sliding_tackle      18978 non-null  int64 \n",
      " 57  goalkeeping         18978 non-null  int64 \n",
      " 58  gk_diving           18978 non-null  int64 \n",
      " 59  manejo              18978 non-null  int64 \n",
      " 60  saque               18978 non-null  int64 \n",
      " 61  posicionamiento_gk  18978 non-null  int64 \n",
      " 62  gk_reflexes         18978 non-null  int64 \n",
      " 63  total_stats         18978 non-null  int64 \n",
      " 64  base_stats          18978 non-null  int64 \n",
      " 65  w/f                 18978 non-null  object\n",
      " 66  sm                  18978 non-null  object\n",
      " 67  a/w                 18978 non-null  object\n",
      " 68  d/w                 18978 non-null  object\n",
      " 69  ir                  18978 non-null  object\n",
      " 70  pac                 18978 non-null  int64 \n",
      " 71  sho                 18978 non-null  int64 \n",
      " 72  pas                 18978 non-null  int64 \n",
      " 73  dri                 18978 non-null  int64 \n",
      " 74  def                 18978 non-null  int64 \n",
      " 75  phy                 18978 non-null  int64 \n",
      " 76  hits                18978 non-null  object\n",
      "dtypes: int64(55), object(22)\n",
      "memory usage: 11.3+ MB\n"
     ]
    }
   ],
   "source": [
    "df.columns = df.columns.str.lower()\n",
    "\n",
    "# Se renonmbran las columnas para facilitar la lectura\n",
    "column_renaming_map_2 = {\n",
    " \"foto_url\": \"photo_url\",\n",
    "    \"nombre_completo\": \"long_name\",\n",
    "    \"jugador_url\": \"player_url\",\n",
    "    \"↓ova\": \"ova\",\n",
    "    \"fin_prestamo\": \"loan_date_end\",\n",
    "    \"clausula_recision\": \"release_clause\",\n",
    "    \"cabeceo\": \"heading_accuracy\",\n",
    "    \"pase_corto\": \"short_passing\",\n",
    "    \"precision_falta\": \"fk_accuracy\",\n",
    "    \"pase_largo\": \"long_passing\",\n",
    "    \"control_balon\": \"ball_control\",\n",
    "    \"velocidad_sprint\": \"sprint_speed\",\n",
    "    \"potencia_tiro\": \"shot_power\",\n",
    "    \"tiros_largos\": \"long_shots\",\n",
    "    \"entradas\": \"standing_tackle\",\n",
    "    \"barridas\": \"sliding_tackle\",\n",
    "    \"atajadas\": \"gk_diving\",\n",
    "    \"manejo_gk\": \"gk_handling\",\n",
    "    \"saque_gk\": \"gk_kicking\",\n",
    "    \"posicion_gk\": \"gk_positioning\",\n",
    "    \"reflejos_gk\": \"gk_reflexes\",\n",
    "    \"stats_totales\": \"total_stats\",\n",
    "    \"stats_base\": \"base_stats\"   \n",
    "\n",
    "}\n",
    "\n",
    "df = df.rename(columns=column_renaming_map_2)\n",
    "\n",
    "# Se muestran las columnas con los cambios realizados \n",
    "df.info()"
   ]
  },
  {
   "cell_type": "code",
   "execution_count": 37,
   "metadata": {},
   "outputs": [
    {
     "name": "stdout",
     "output_type": "stream",
     "text": [
      "<class 'pandas.core.frame.DataFrame'>\n",
      "Index: 18978 entries, 0 to 18978\n",
      "Data columns (total 77 columns):\n",
      " #   Column              Non-Null Count  Dtype \n",
      "---  ------              --------------  ----- \n",
      " 0   id                  18978 non-null  int64 \n",
      " 1   name                18978 non-null  object\n",
      " 2   long_name           18978 non-null  object\n",
      " 3   age                 18978 non-null  int64 \n",
      " 4   nationality         18978 non-null  object\n",
      " 5   team & contract     18978 non-null  object\n",
      " 6   positions           18978 non-null  object\n",
      " 7   height              18978 non-null  object\n",
      " 8   weight              18978 non-null  object\n",
      " 9   foot                18978 non-null  object\n",
      " 10  joined              18978 non-null  object\n",
      " 11  value               18978 non-null  object\n",
      " 12  wage                18978 non-null  object\n",
      " 13  release_clause      18978 non-null  object\n",
      " 14  ova                 18978 non-null  int64 \n",
      " 15  photo_url           18978 non-null  object\n",
      " 16  player_url          18978 non-null  object\n",
      " 17  pot                 18978 non-null  int64 \n",
      " 18  bov                 18978 non-null  int64 \n",
      " 19  bp                  18978 non-null  object\n",
      " 20  growth              18978 non-null  int64 \n",
      " 21  loan_date_end       18978 non-null  object\n",
      " 22  attacking           18978 non-null  int64 \n",
      " 23  crossing            18978 non-null  int64 \n",
      " 24  finishing           18978 non-null  int64 \n",
      " 25  heading_accuracy    18978 non-null  int64 \n",
      " 26  short_passing       18978 non-null  int64 \n",
      " 27  volleys             18978 non-null  int64 \n",
      " 28  skill               18978 non-null  int64 \n",
      " 29  dribbling           18978 non-null  int64 \n",
      " 30  curve               18978 non-null  int64 \n",
      " 31  fk_accuracy         18978 non-null  int64 \n",
      " 32  long_passing        18978 non-null  int64 \n",
      " 33  ball_control        18978 non-null  int64 \n",
      " 34  movement            18978 non-null  int64 \n",
      " 35  acceleration        18978 non-null  int64 \n",
      " 36  sprint_speed        18978 non-null  int64 \n",
      " 37  agility             18978 non-null  int64 \n",
      " 38  reactions           18978 non-null  int64 \n",
      " 39  balance             18978 non-null  int64 \n",
      " 40  power               18978 non-null  int64 \n",
      " 41  shot_power          18978 non-null  int64 \n",
      " 42  jumping             18978 non-null  int64 \n",
      " 43  stamina             18978 non-null  int64 \n",
      " 44  strength            18978 non-null  int64 \n",
      " 45  long_shots          18978 non-null  int64 \n",
      " 46  mentality           18978 non-null  int64 \n",
      " 47  aggression          18978 non-null  int64 \n",
      " 48  interceptions       18978 non-null  int64 \n",
      " 49  positioning         18978 non-null  int64 \n",
      " 50  vision              18978 non-null  int64 \n",
      " 51  penalties           18978 non-null  int64 \n",
      " 52  composure           18978 non-null  int64 \n",
      " 53  defending           18978 non-null  int64 \n",
      " 54  marking             18978 non-null  int64 \n",
      " 55  standing_tackle     18978 non-null  int64 \n",
      " 56  sliding_tackle      18978 non-null  int64 \n",
      " 57  goalkeeping         18978 non-null  int64 \n",
      " 58  gk_diving           18978 non-null  int64 \n",
      " 59  manejo              18978 non-null  int64 \n",
      " 60  saque               18978 non-null  int64 \n",
      " 61  posicionamiento_gk  18978 non-null  int64 \n",
      " 62  gk_reflexes         18978 non-null  int64 \n",
      " 63  total_stats         18978 non-null  int64 \n",
      " 64  base_stats          18978 non-null  int64 \n",
      " 65  w/f                 18978 non-null  object\n",
      " 66  sm                  18978 non-null  object\n",
      " 67  a/w                 18978 non-null  object\n",
      " 68  d/w                 18978 non-null  object\n",
      " 69  ir                  18978 non-null  object\n",
      " 70  pac                 18978 non-null  int64 \n",
      " 71  sho                 18978 non-null  int64 \n",
      " 72  pas                 18978 non-null  int64 \n",
      " 73  dri                 18978 non-null  int64 \n",
      " 74  def                 18978 non-null  int64 \n",
      " 75  phy                 18978 non-null  int64 \n",
      " 76  hits                18978 non-null  object\n",
      "dtypes: int64(55), object(22)\n",
      "memory usage: 11.3+ MB\n"
     ]
    }
   ],
   "source": [
    "# Se define el orden de las columnas\n",
    "nuevo_orden = ['id', 'name', 'long_name', 'age', 'nationality', 'team & contract', 'positions', 'height', 'weight', 'foot', 'joined', 'value', 'wage', 'release_clause', 'ova']\n",
    "\n",
    "# Se eligen las columnas restantes en el orden de las mismas\n",
    "columnas_restantes = [col for col in df.columns if col not in nuevo_orden]\n",
    "\n",
    "# Se reordenan las columnas \n",
    "df = df[nuevo_orden + columnas_restantes]\n",
    "\n",
    "# Se muestra la informacion tras el reordenamiento\n",
    "df.info()"
   ]
  },
  {
   "cell_type": "markdown",
   "metadata": {},
   "source": [
    "### Actualizacion Edades"
   ]
  },
  {
   "cell_type": "code",
   "execution_count": 39,
   "metadata": {},
   "outputs": [
    {
     "data": {
      "text/plain": [
       "0        33\n",
       "1        35\n",
       "2        27\n",
       "3        29\n",
       "4        28\n",
       "         ..\n",
       "18974    21\n",
       "18975    17\n",
       "18976    21\n",
       "18977    17\n",
       "18978    19\n",
       "Name: age, Length: 18978, dtype: int64"
      ]
     },
     "execution_count": 39,
     "metadata": {},
     "output_type": "execute_result"
    }
   ],
   "source": [
    "df[\"age\"]"
   ]
  },
  {
   "cell_type": "code",
   "execution_count": 40,
   "metadata": {},
   "outputs": [
    {
     "data": {
      "text/plain": [
       "0        36\n",
       "1        38\n",
       "2        30\n",
       "3        32\n",
       "4        31\n",
       "         ..\n",
       "18974    24\n",
       "18975    20\n",
       "18976    24\n",
       "18977    20\n",
       "18978    22\n",
       "Name: age, Length: 18978, dtype: int64"
      ]
     },
     "execution_count": 40,
     "metadata": {},
     "output_type": "execute_result"
    }
   ],
   "source": [
    "# Se añaden 3 años correspondientes al pasar del tiempo de 2020 que salio el juego a 2024 cuando empezo la temporada\n",
    "df[\"age\"] = df[\"age\"] + 3\n",
    "\n",
    "# Se revisa la edad actualizada\n",
    "df[\"age\"]"
   ]
  },
  {
   "cell_type": "markdown",
   "metadata": {},
   "source": [
    "### Conversion de Alturas"
   ]
  },
  {
   "cell_type": "code",
   "execution_count": 41,
   "metadata": {},
   "outputs": [
    {
     "data": {
      "text/plain": [
       "0         5'7\"\n",
       "1         6'2\"\n",
       "2         6'2\"\n",
       "3        5'11\"\n",
       "4         5'9\"\n",
       "         ...  \n",
       "18974    5'10\"\n",
       "18975     5'7\"\n",
       "18976    5'10\"\n",
       "18977     5'9\"\n",
       "18978     5'9\"\n",
       "Name: height, Length: 18978, dtype: object"
      ]
     },
     "execution_count": 41,
     "metadata": {},
     "output_type": "execute_result"
    }
   ],
   "source": [
    "df[\"height\"]"
   ]
  },
  {
   "cell_type": "code",
   "execution_count": 43,
   "metadata": {},
   "outputs": [
    {
     "data": {
      "text/plain": [
       "0        169\n",
       "1        187\n",
       "2        187\n",
       "3        179\n",
       "4        174\n",
       "        ... \n",
       "18974    176\n",
       "18975    169\n",
       "18976    176\n",
       "18977    174\n",
       "18978    174\n",
       "Name: height_cm, Length: 18978, dtype: int64"
      ]
     },
     "execution_count": 43,
     "metadata": {},
     "output_type": "execute_result"
    }
   ],
   "source": [
    "# Se define una funcion para convertir la altura de pies a centimetros\n",
    "\"\"\"\n",
    "Convierte un dato str en pies y pulgadas a centimetros.\n",
    "Args:\n",
    "    height_str: el str de la altura en formato \"feet'inches\".\n",
    "Returns:\n",
    "    Altura en centimetros.\n",
    "\"\"\"\n",
    "def convert_height_to_cm(height_str):\n",
    "    feet, inches = height_str.split(\"'\")\n",
    "    feet = int(feet)\n",
    "    inches = int(inches.replace('\"', ''))\n",
    "    total_feet = feet + (inches * 0.08)\n",
    "    return total_feet * 30.48\n",
    "\n",
    "# aplica la funcion y convierte los datos de pulgadas a centimetros en int \n",
    "df[\"height_cm\"] = df[\"height\"].apply(convert_height_to_cm).astype(int)\n",
    "\n",
    "# se muestra la altura actualizada\n",
    "df[\"height_cm\"]"
   ]
  },
  {
   "cell_type": "markdown",
   "metadata": {},
   "source": [
    "## Cambios \n",
    "\n",
    "- Se identificaron las filas duplicadas y se eliminaron para no tener datos repetidos\n",
    "\n",
    "- Se identificaron los datos faltantes o nulos y se les cambio la descripcion para adaptarlos al contexto \n",
    "\n",
    "- Se convirtieron, renombraron y reordenaron algunas columnas para facilitar la lectura del dataset \n",
    "\n",
    "- Se realizaron actualizaciones a las edades de los jugadores para adatarlas al momento del tiempo en el que se realiza el trabajo (2024).\n",
    "\n",
    "- Se realizaron conversiones en la unidad de medida para las alturas de los jugadores adaptandolas a centimetros para facilitar el entendimiento de aquellos lectores familiarizados con esta unidad de medida."
   ]
  }
 ],
 "metadata": {
  "kernelspec": {
   "display_name": "ciencia_datos",
   "language": "python",
   "name": "python3"
  },
  "language_info": {
   "codemirror_mode": {
    "name": "ipython",
    "version": 3
   },
   "file_extension": ".py",
   "mimetype": "text/x-python",
   "name": "python",
   "nbconvert_exporter": "python",
   "pygments_lexer": "ipython3",
   "version": "3.12.4"
  }
 },
 "nbformat": 4,
 "nbformat_minor": 2
}
